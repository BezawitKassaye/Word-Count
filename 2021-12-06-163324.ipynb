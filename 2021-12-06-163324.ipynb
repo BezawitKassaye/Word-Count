{
 "cells": [
  {
   "cell_type": "code",
   "execution_count": 1,
   "metadata": {
    "collapsed": false
   },
   "outputs": [
    {
     "name": "stdout",
     "output_type": "stream",
     "text": [
      "<__main__.AVLTreeUnique object at 0x7fc8174222b0>\n"
     ]
    },
    {
     "ename": "AttributeError",
     "evalue": "'NoneType' object has no attribute '__iter__'",
     "output_type": "error",
     "traceback": [
      "\u001b[0;31m---------------------------------------------------------------------------\u001b[0m",
      "\u001b[0;31mAttributeError\u001b[0m                            Traceback (most recent call last)",
      "\u001b[0;32m/tmp/ipykernel_1572/751714705.py\u001b[0m in \u001b[0;36m<module>\u001b[0;34m\u001b[0m\n\u001b[1;32m    111\u001b[0m     \u001b[0mbk\u001b[0m \u001b[0;34m=\u001b[0m \u001b[0mword_count\u001b[0m\u001b[0;34m(\u001b[0m\u001b[0;34m\"/home/user/csc152/HW3WordFrequencies//browne.txt\"\u001b[0m\u001b[0;34m)\u001b[0m\u001b[0;34m\u001b[0m\u001b[0;34m\u001b[0m\u001b[0m\n\u001b[1;32m    112\u001b[0m     \u001b[0mprint\u001b[0m\u001b[0;34m(\u001b[0m\u001b[0mbk\u001b[0m\u001b[0;34m)\u001b[0m\u001b[0;34m\u001b[0m\u001b[0;34m\u001b[0m\u001b[0m\n\u001b[0;32m--> 113\u001b[0;31m     \u001b[0mprint\u001b[0m\u001b[0;34m(\u001b[0m\u001b[0mreport\u001b[0m\u001b[0;34m(\u001b[0m\u001b[0mbk\u001b[0m\u001b[0;34m,\u001b[0m\u001b[0;34m\"report.txt\"\u001b[0m\u001b[0;34m)\u001b[0m\u001b[0;34m)\u001b[0m\u001b[0;34m\u001b[0m\u001b[0;34m\u001b[0m\u001b[0m\n\u001b[0m\u001b[1;32m    114\u001b[0m     \u001b[0;31m#cmn_lst = display_common(bk, 100)\u001b[0m\u001b[0;34m\u001b[0m\u001b[0;34m\u001b[0m\u001b[0;34m\u001b[0m\u001b[0m\n\u001b[1;32m    115\u001b[0m     \u001b[0;31m#print(cmn_lst)\u001b[0m\u001b[0;34m\u001b[0m\u001b[0;34m\u001b[0m\u001b[0;34m\u001b[0m\u001b[0m\n",
      "\u001b[0;32m/tmp/ipykernel_1572/751714705.py\u001b[0m in \u001b[0;36mreport\u001b[0;34m(tree, fname)\u001b[0m\n\u001b[1;32m     89\u001b[0m     \u001b[0;32mwith\u001b[0m \u001b[0mopen\u001b[0m\u001b[0;34m(\u001b[0m\u001b[0mfname\u001b[0m\u001b[0;34m,\u001b[0m \u001b[0;34m'w'\u001b[0m\u001b[0;34m)\u001b[0m \u001b[0;32mas\u001b[0m \u001b[0mfile\u001b[0m\u001b[0;34m:\u001b[0m\u001b[0;34m\u001b[0m\u001b[0;34m\u001b[0m\u001b[0m\n\u001b[1;32m     90\u001b[0m         \u001b[0;31m#file.write(display_common(word_count(fname), word_count))\u001b[0m\u001b[0;34m\u001b[0m\u001b[0;34m\u001b[0m\u001b[0;34m\u001b[0m\u001b[0m\n\u001b[0;32m---> 91\u001b[0;31m         \u001b[0mfile\u001b[0m \u001b[0;34m=\u001b[0m \u001b[0;34m(\u001b[0m\u001b[0msorted\u001b[0m\u001b[0;34m(\u001b[0m\u001b[0mtree\u001b[0m\u001b[0;34m)\u001b[0m\u001b[0;34m)\u001b[0m\u001b[0;34m\u001b[0m\u001b[0;34m\u001b[0m\u001b[0m\n\u001b[0m\u001b[1;32m     92\u001b[0m         \u001b[0;32mreturn\u001b[0m \u001b[0mfile\u001b[0m\u001b[0;34m\u001b[0m\u001b[0;34m\u001b[0m\u001b[0m\n\u001b[1;32m     93\u001b[0m         \u001b[0;31m#file.write(word_count)\u001b[0m\u001b[0;34m\u001b[0m\u001b[0;34m\u001b[0m\u001b[0;34m\u001b[0m\u001b[0m\n",
      "\u001b[0;32m~/csc152/HW3WordFrequencies/BST.py\u001b[0m in \u001b[0;36m__iter__\u001b[0;34m(self)\u001b[0m\n\u001b[1;32m     99\u001b[0m \u001b[0;34m\u001b[0m\u001b[0m\n\u001b[1;32m    100\u001b[0m     \u001b[0;32mdef\u001b[0m \u001b[0m__iter__\u001b[0m\u001b[0;34m(\u001b[0m\u001b[0mself\u001b[0m\u001b[0;34m)\u001b[0m\u001b[0;34m:\u001b[0m\u001b[0;34m\u001b[0m\u001b[0;34m\u001b[0m\u001b[0m\n\u001b[0;32m--> 101\u001b[0;31m         \u001b[0;32mreturn\u001b[0m \u001b[0mself\u001b[0m\u001b[0;34m.\u001b[0m\u001b[0mroot\u001b[0m\u001b[0;34m.\u001b[0m\u001b[0m__iter__\u001b[0m\u001b[0;34m(\u001b[0m\u001b[0;34m)\u001b[0m\u001b[0;34m\u001b[0m\u001b[0;34m\u001b[0m\u001b[0m\n\u001b[0m\u001b[1;32m    102\u001b[0m \u001b[0;34m\u001b[0m\u001b[0m\n\u001b[1;32m    103\u001b[0m     \u001b[0;32mdef\u001b[0m \u001b[0mput\u001b[0m\u001b[0;34m(\u001b[0m\u001b[0mself\u001b[0m\u001b[0;34m,\u001b[0m \u001b[0mkey\u001b[0m\u001b[0;34m,\u001b[0m \u001b[0mvalue\u001b[0m\u001b[0;34m)\u001b[0m\u001b[0;34m:\u001b[0m\u001b[0;34m\u001b[0m\u001b[0;34m\u001b[0m\u001b[0m\n",
      "\u001b[0;31mAttributeError\u001b[0m: 'NoneType' object has no attribute '__iter__'"
     ]
    }
   ],
   "source": [
    "from BST import TreeNode\n",
    "from AVLTree import AVLTree\n",
    "\n",
    "class AVLTreeUnique(AVLTree):\n",
    "    def __init__(self):\n",
    "        super().__init__()\n",
    "\n",
    "    def _put(self, key, value, current_node):\n",
    "        #me trying \n",
    "\n",
    "        if key < current_node.key:\n",
    "            if current_node.left_child:\n",
    "                self._put(key, value, current_node.left_child)\n",
    "            else:\n",
    "                current_node.left_child = TreeNode(key, value, parent=current_node)\n",
    "        elif key > current_node.key:\n",
    "            if current_node.right_child:\n",
    "                self._put(key, value, current_node.right_child)\n",
    "            else:\n",
    "                current_node.right_child = TreeNode(key, value, parent=current_node)\n",
    "\n",
    "        elif key==current_node.key: \n",
    "            current_node.value +=1\n",
    "            current_node = TreeNode(current_node.key, current_node.value,current_node)\n",
    "\n",
    "        # Modify this function to make sure that key-value pairs are overwritten\n",
    "        # in the case of duplicate keys.\n",
    "\n",
    "    def rotate_right(self, rotation_root):\n",
    "        # Your solution here\n",
    "        new_root = rotation_root.right_child\n",
    "        rotation_root.left_child = new_root.right_child\n",
    "        if new_root.right_child:\n",
    "            new_root.right_child.parent = rotation_root\n",
    "        new_root.parent = rotation_root.parent\n",
    "        if rotation_root.is_root():\n",
    "            self._root = new_root\n",
    "        else:\n",
    "            if rotation_root.is_right_child():\n",
    "                rotation_root.parent.right_child = new_root\n",
    "            else:\n",
    "                rotation_root.parent.left_child = new_root\n",
    "        new_root.right_child = rotation_root\n",
    "        rotation_root.parent = new_root\n",
    "        rotation_root.balance_factor = (\n",
    "            rotation_root.balance_factor - 1 + min(new_root.balance_factor, 0)\n",
    "        )\n",
    "        new_root.balance_factor = (\n",
    "            new_root.balance_factor - 1 - max(rotation_root.balance_factor, 0)\n",
    "        )\n",
    "            #raise NotImplementedError\n",
    "\n",
    "def strip(word):\n",
    "    \"\"\"strip() removes all non-alphabetic characters from a string. The builtin\n",
    "    str.split function isn't quite flexible enough for our needs here, so we\n",
    "    supply a custom version. The string function str.isalpha() may be useful.\"\"\"\n",
    "    return \"\".join([ch for ch in word if str.isalpha(ch)])\n",
    "\n",
    "def word_count(fname):\n",
    "    \"\"\"Opens the file named `fname` and reads each line, creating an AVL tree storing each word\n",
    "    and its frequency as a key-value pair.\"\"\"\n",
    "    my_tree = AVLTreeUnique()\n",
    "    with open(fname, 'r') as file:\n",
    "        lines = file.readlines() # now lines is a list of the lines in the file\n",
    "        for line in lines:\n",
    "            words = line.split(\" \")\n",
    "            for word in words: \n",
    "                word = strip(word)\n",
    "                my_tree.put(word,1)\n",
    "            \n",
    "    return my_tree\n",
    "   # raise NotImplementedError\n",
    "\n",
    "def display_common(freq_map, n):\n",
    "    \"\"\"Given a frequency mapping (like that produced by word_count), prints the n most common\n",
    "    entries and their frequencies to the screen.\"\"\"\n",
    "    # Your solution here\n",
    "    greatest_to_least_map = sorted(freq_map, key= lambda dict_key: freq_map[dict_key], reverse = True)\n",
    "    common = []\n",
    "    for i in range(n+1):\n",
    "        common.append(f\"{greatest_to_least_map[i]}: {freq_map [greatest_to_least_map[i]]}\")\n",
    "    return common \n",
    "\n",
    "\n",
    "def report(tree, fname): # used word_count\n",
    "    \"\"\"Uses sorted() with a custom sort key and file.write() to\n",
    "    create the lines of the file one by one.\"\"\"\n",
    "\n",
    "    with open(fname, 'w') as file:\n",
    "        #file.write(display_common(word_count(fname), word_count))\n",
    "        file = (sorted(tree))\n",
    "        return file\n",
    "        #file.write(word_count)\n",
    "        # Your solution here\n",
    "        #raise NotImplementedError\n",
    "\n",
    "if __name__ == \"__main__\":\n",
    "    # Put the code for problem 05 here: that is, the steps of the main program.\n",
    "    # Guarding the code inside this `if` statement would allow us to import this\n",
    "    # file as a Python module without executing the main program, were we so inclined.\n",
    "\n",
    "    # Your solution here\n",
    "    #with open(\"/home/user/csc152/HW3WordFrequencies//browne.txt\",\"r\") as file: \n",
    "    #    lines = file.readlines()  \n",
    "    #    line = AVLTreeUnique.strip(lines).split(\" \")\n",
    "    #    num_words = 0\n",
    "    #    for word in line: \n",
    "    #        num_words +=1\n",
    "    #    AVLTreeUnique.report(num_words, file)\n",
    "    #    AVLTreeUnique.display_common(AVLTreeunique.report(num_words,file), 100)\n",
    "    bk = word_count(\"/home/user/csc152/HW3WordFrequencies//browne.txt\")\n",
    "    print(bk)\n",
    "    print(report(bk,\"report.txt\"))\n",
    "    #cmn_lst = display_common(bk, 100)\n",
    "    #print(cmn_lst)\n",
    "    \n",
    "    #pass"
   ]
  },
  {
   "cell_type": "code",
   "execution_count": 0,
   "metadata": {
    "collapsed": false
   },
   "outputs": [
   ],
   "source": [
   ]
  },
  {
   "cell_type": "code",
   "execution_count": 0,
   "metadata": {
    "collapsed": false
   },
   "outputs": [
   ],
   "source": [
   ]
  }
 ],
 "metadata": {
  "kernelspec": {
   "argv": [
    "/usr/bin/python3",
    "-m",
    "ipykernel",
    "--HistoryManager.enabled=False",
    "--matplotlib=inline",
    "-c",
    "%config InlineBackend.figure_formats = set(['retina'])\nimport matplotlib; matplotlib.rcParams['figure.figsize'] = (12, 7)",
    "-f",
    "{connection_file}"
   ],
   "display_name": "Python 3 (system-wide)",
   "env": {
   },
   "language": "python",
   "metadata": {
    "cocalc": {
     "description": "Python 3 programming language",
     "priority": 100,
     "url": "https://www.python.org/"
    }
   },
   "name": "python3",
   "resource_dir": "/ext/jupyter/kernels/python3"
  },
  "language_info": {
   "codemirror_mode": {
    "name": "ipython",
    "version": 3
   },
   "file_extension": ".py",
   "mimetype": "text/x-python",
   "name": "python",
   "nbconvert_exporter": "python",
   "pygments_lexer": "ipython3",
   "version": "3.8.10"
  }
 },
 "nbformat": 4,
 "nbformat_minor": 4
}